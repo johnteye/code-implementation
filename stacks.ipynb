{
 "cells": [
  {
   "cell_type": "code",
   "execution_count": null,
   "metadata": {},
   "outputs": [],
   "source": [
    "class Solution:\n",
    "    # valid parenthesis\n",
    "    def isValid(self, s: str) -> bool:\n",
    "        pair = {\n",
    "            \"]\":\"[\",\n",
    "            \"}\":\"{\",\n",
    "            \")\":\"(\"\n",
    "        }\n",
    "        stack = []\n",
    "\n",
    "        for c in s:\n",
    "            if c in pair:\n",
    "                if stack and stack[-1] == pair[c]:\n",
    "                    stack.pop()\n",
    "                else:\n",
    "                    return False\n",
    "            else:\n",
    "                stack.append(c)\n",
    "        return True if not stack else False\n",
    "test1 = Solution()\n",
    "test1.isValid(\"[{]\")"
   ]
  }
 ],
 "metadata": {
  "kernelspec": {
   "display_name": "Python 3.10.7 64-bit",
   "language": "python",
   "name": "python3"
  },
  "language_info": {
   "name": "python",
   "version": "3.10.7"
  },
  "orig_nbformat": 4,
  "vscode": {
   "interpreter": {
    "hash": "df95319d8ce4e1d89f5365ae10992bc1f65da593082b1d264e8f529830ec2f02"
   }
  }
 },
 "nbformat": 4,
 "nbformat_minor": 2
}
