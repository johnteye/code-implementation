{
 "cells": [
  {
   "cell_type": "code",
   "execution_count": null,
   "metadata": {},
   "outputs": [],
   "source": [
    "class Solution:\n",
    "    # valid parenthesis\n",
    "    def isValid(self, s: str) -> bool:\n",
    "        pair = {\n",
    "            \"]\":\"[\",\n",
    "            \"}\":\"{\",\n",
    "            \")\":\"(\"\n",
    "        }\n",
    "        stack = []\n",
    "\n",
    "        for c in s:\n",
    "            if c in pair:\n",
    "                if stack and stack[-1] == pair[c]:\n",
    "                    stack.pop()\n",
    "                else:\n",
    "                    return False\n",
    "            else:\n",
    "                stack.append(c)\n",
    "        return True if not stack else False\n",
    "test1 = Solution()\n",
    "test1.isValid(\"[{]\")"
   ]
  },
  {
   "cell_type": "code",
   "execution_count": 4,
   "metadata": {},
   "outputs": [
    {
     "data": {
      "text/plain": [
       "deque([[10, 5, 7, 4]])"
      ]
     },
     "execution_count": 4,
     "metadata": {},
     "output_type": "execute_result"
    }
   ],
   "source": [
    "from collections import deque\n",
    "def bfs(root):\n",
    "    if not root: return\n",
    "\n",
    "    nxt_level = deque()\n",
    "    nxt_level.append(root)\n",
    "    return nxt_level\n",
    "\n",
    "bfs([10,5,7,4])"
   ]
  },
  {
   "cell_type": "code",
   "execution_count": 7,
   "metadata": {},
   "outputs": [
    {
     "data": {
      "text/plain": [
       "3"
      ]
     },
     "execution_count": 7,
     "metadata": {},
     "output_type": "execute_result"
    }
   ],
   "source": [
    "#car fleet\n",
    "from typing import List\n",
    "def carFleet(target: int, position: List[int], speed: List[int]) -> int:\n",
    "    pair = [(p,s) for p,s in zip(position, speed)]\n",
    "    \n",
    "    pair.sort(reverse= True)\n",
    "    stack = []\n",
    "    for p, s in pair:\n",
    "        stack.append((target-p) / s)\n",
    "        if len(stack) >=2 and stack[-1] <= stack[-2]:\n",
    "            stack.pop()\n",
    "    return len(stack)                \n",
    "        \n",
    "        \n",
    "    \n",
    "carFleet(target = 12, position = [10,8,0,5,3], speed = [2,4,1,1,3])"
   ]
  },
  {
   "cell_type": "code",
   "execution_count": 1,
   "metadata": {},
   "outputs": [],
   "source": [
    "from typing import List\n",
    "def merge(intervals: List[List[int]]) -> List[List[int]]:\n",
    "    intervals.sort()\n",
    "    output = [intervals[0]]\n",
    "    \n",
    "    for start,end in intervals:\n",
    "        lastEnd = output[-1][1]\n",
    "        if start <= lastEnd:\n",
    "            output[-1][1] = max(lastEnd,end)\n",
    "        else:\n",
    "            output.append([start,end])\n",
    "    return output\n",
    "\n",
    "\n"
   ]
  },
  {
   "cell_type": "code",
   "execution_count": 17,
   "metadata": {},
   "outputs": [
    {
     "data": {
      "text/plain": [
       "True"
      ]
     },
     "execution_count": 17,
     "metadata": {},
     "output_type": "execute_result"
    }
   ],
   "source": [
    "def isPossible(a,b,c,d):\n",
    "\n",
    "    # if a and b > c and d:\n",
    "    #     return False\n",
    "    # while a < c:\n",
    "    #     a = a + b\n",
    "    #     if (a + b) == c:\n",
    "    #         return True\n",
    "    #     if a == 0:\n",
    "    #         return False\n",
    "    # while b < d:\n",
    "    #     b = a + b\n",
    "    #     if (a + b) == d:\n",
    "    #         return True\n",
    "    #     if b == 0:\n",
    "    #         return False\n",
    "    # if a == c and b == d:\n",
    "    #     return True\n",
    "    # else:\n",
    "    #     return False\n",
    "    while a <= c and b <= d:\n",
    "        if (d - b) % c == 0 and (c - a) % d == 0: return True\n",
    "        c, d = c % d, d % c\n",
    "        \n",
    "    return False\n",
    "    \n",
    "    \n",
    "isPossible(-10,5,10,5)\n",
    "    "
   ]
  },
  {
   "cell_type": "code",
   "execution_count": 46,
   "metadata": {},
   "outputs": [
    {
     "name": "stdout",
     "output_type": "stream",
     "text": [
      "['rattle', 'key', 'mouse', 'crocodile']\n",
      "['rattle', 'mouse', 'crocodile', 'key']\n",
      "['rattle', 'mouse', 'crocodile', 'key', 'riverdale']\n",
      "['mouse', 'crocodile', 'key', 'riverdale']\n"
     ]
    }
   ],
   "source": [
    "array = [\"rattle\",\"key\", \"mouse\"]\n",
    "def addItems(x):\n",
    "   \n",
    "    if x in array:\n",
    "        array.remove(x) \n",
    "        array.append(x)  \n",
    "    else:\n",
    "        array.append(x)\n",
    "    print(array)\n",
    "   \n",
    "addItems(\"crocodile\") \n",
    "addItems(\"key\") \n",
    "addItems(\"riverdale\")   \n"
   ]
  },
  {
   "cell_type": "code",
   "execution_count": 13,
   "metadata": {},
   "outputs": [
    {
     "name": "stdout",
     "output_type": "stream",
     "text": [
      "1\n",
      "2\n",
      "4\n",
      "3\n",
      "6\n",
      "5\n"
     ]
    }
   ],
   "source": [
    "# practicing BFS\n",
    "from collections import deque\n",
    "class Node:\n",
    "    def __init__(self, val=0):\n",
    "        self.val = val\n",
    "        self.right = self.left = None\n",
    "        \n",
    "def bfs(root):\n",
    "    if not root: return\n",
    "    next_level = deque()\n",
    "    next_level.append(root)\n",
    "    \n",
    "    while next_level:\n",
    "        current_level = deque()\n",
    "        for node in next_level:\n",
    "            current_level.append(node)\n",
    "        next_level = deque()\n",
    "        \n",
    "        for n in current_level:\n",
    "            print(n.val)\n",
    "            if n.left:next_level.append(n.left)\n",
    "            if n.right: next_level.append(n.right)\n",
    "            \n",
    "            \n",
    "\n",
    "n1 = Node(1)\n",
    "n2 = Node(2)\n",
    "n3 = Node(3)\n",
    "n4 = Node(4)\n",
    "n5 = Node(5)\n",
    "n6 = Node(6)\n",
    "\n",
    "n1.right = n2\n",
    "n2.right = n4\n",
    "n4.left = n3\n",
    "n4.right = n6\n",
    "n6.left = n5\n",
    "bfs(n1)\n"
   ]
  }
 ],
 "metadata": {
  "kernelspec": {
   "display_name": "Python 3.10.7 64-bit",
   "language": "python",
   "name": "python3"
  },
  "language_info": {
   "codemirror_mode": {
    "name": "ipython",
    "version": 3
   },
   "file_extension": ".py",
   "mimetype": "text/x-python",
   "name": "python",
   "nbconvert_exporter": "python",
   "pygments_lexer": "ipython3",
   "version": "3.10.7"
  },
  "orig_nbformat": 4,
  "vscode": {
   "interpreter": {
    "hash": "df95319d8ce4e1d89f5365ae10992bc1f65da593082b1d264e8f529830ec2f02"
   }
  }
 },
 "nbformat": 4,
 "nbformat_minor": 2
}
