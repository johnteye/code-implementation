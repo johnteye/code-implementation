{
 "cells": [
  {
   "cell_type": "code",
   "execution_count": 1,
   "metadata": {},
   "outputs": [
    {
     "name": "stdout",
     "output_type": "stream",
     "text": [
      "10\n",
      "9\n",
      "8\n",
      "7\n",
      "6\n",
      "5\n",
      "4\n",
      "3\n",
      "2\n",
      "1\n",
      "0\n"
     ]
    },
    {
     "data": {
      "text/plain": [
       "3"
      ]
     },
     "execution_count": 1,
     "metadata": {},
     "output_type": "execute_result"
    }
   ],
   "source": [
    "\n",
    "def countdown(number):\n",
    "    print(number)\n",
    "    if number <=0:\n",
    "        return\n",
    "    countdown(number - 1)\n",
    "\n",
    "countdown(10)\n",
    "\n",
    "string = \"axbxcxd\"\n",
    "def count_x(string):\n",
    "    if len(string) == 0:\n",
    "        return 0\n",
    "    if string[0] == \"x\":\n",
    "        return 1 + count_x(string[1:])\n",
    "    else:\n",
    "        return count_x(string[1:])\n",
    "count_x(string)\n"
   ]
  },
  {
   "cell_type": "code",
   "execution_count": 7,
   "metadata": {},
   "outputs": [
    {
     "data": {
      "text/plain": [
       "7"
      ]
     },
     "execution_count": 7,
     "metadata": {},
     "output_type": "execute_result"
    }
   ],
   "source": [
    "#Staircase Problem\n",
    "def number_of_paths(n):\n",
    "    if n < 0:\n",
    "        return 0\n",
    "    if n == 1 or n == 0:\n",
    "        return 1\n",
    "\n",
    "    return number_of_paths(n-1) + number_of_paths(n-2) + number_of_paths(n-3)\n",
    "    \n",
    "    \n",
    "    \n",
    "number_of_paths(4)"
   ]
  },
  {
   "cell_type": "code",
   "execution_count": 3,
   "metadata": {},
   "outputs": [
    {
     "data": {
      "text/plain": [
       "['abcd', 'bacd', 'bcad', 'acbd', 'cabd', 'cbad']"
      ]
     },
     "execution_count": 3,
     "metadata": {},
     "output_type": "execute_result"
    }
   ],
   "source": [
    "# Anagram\n",
    "'''\n",
    "abcd\n",
    "anagram(a) + anagram(bcd)\n",
    "'''\n",
    "# def anagrams_of(string):\n",
    "#     if len(string) == 1: return [string[0]]\n",
    "    \n",
    "#     collection = []\n",
    "#     substring_anagrams = anagrams_of(string[1:])\n",
    "   \n",
    "#     for c in substring_anagrams:\n",
    "#         for i in range(0, len(substring_anagrams)):\n",
    "#             copy = substring_anagrams[:]\n",
    "#             copy.append(string[i])\n",
    "#             collection.append(copy)\n",
    "    \n",
    "#     return collection\n",
    "\n",
    "# anagrams_of(\"abcd\")\n",
    "\n",
    "\n",
    "\n",
    "def anagrams_of(string):\n",
    "    if len(string) == 1: return [string[0]]\n",
    "    \n",
    "    collection = []\n",
    "    substring_anagrams = anagrams_of(string[1:])\n",
    "   \n",
    "    for c in substring_anagrams:\n",
    "        for i in range(0, len(c)):\n",
    "            copy = c\n",
    "            collection.append(copy[:i] + string[0] + copy[i:])\n",
    "    \n",
    "    return collection\n",
    "\n",
    "anagrams_of(\"abcd\")"
   ]
  },
  {
   "cell_type": "code",
   "execution_count": 18,
   "metadata": {},
   "outputs": [
    {
     "ename": "IndexError",
     "evalue": "string index out of range",
     "output_type": "error",
     "traceback": [
      "\u001b[1;31m---------------------------------------------------------------------------\u001b[0m",
      "\u001b[1;31mIndexError\u001b[0m                                Traceback (most recent call last)",
      "Cell \u001b[1;32mIn [18], line 11\u001b[0m\n\u001b[0;32m      8\u001b[0m         i\u001b[39m=\u001b[39mi\u001b[39m+\u001b[39m\u001b[39m1\u001b[39m\n\u001b[0;32m      9\u001b[0m         k\u001b[39m=\u001b[39mk\u001b[39m-\u001b[39m\u001b[39m1\u001b[39m\n\u001b[1;32m---> 11\u001b[0m anagram()\n",
      "Cell \u001b[1;32mIn [18], line 7\u001b[0m, in \u001b[0;36managram\u001b[1;34m()\u001b[0m\n\u001b[0;32m      5\u001b[0m k\u001b[39m=\u001b[39m\u001b[39mlen\u001b[39m(string)\u001b[39m-\u001b[39m\u001b[39m1\u001b[39m\n\u001b[0;32m      6\u001b[0m \u001b[39mwhile\u001b[39;00m k\u001b[39m>\u001b[39m\u001b[39m=\u001b[39m\u001b[39m0\u001b[39m \u001b[39mand\u001b[39;00m j\u001b[39m<\u001b[39m\u001b[39mlen\u001b[39m(string) \u001b[39mand\u001b[39;00m i\u001b[39m!=\u001b[39mj \u001b[39mand\u001b[39;00m i\u001b[39m!=\u001b[39mk \u001b[39mand\u001b[39;00m j\u001b[39m!=\u001b[39mk:\n\u001b[1;32m----> 7\u001b[0m     \u001b[39mprint\u001b[39m(string[i][j][k])\n\u001b[0;32m      8\u001b[0m     i\u001b[39m=\u001b[39mi\u001b[39m+\u001b[39m\u001b[39m1\u001b[39m\n\u001b[0;32m      9\u001b[0m     k\u001b[39m=\u001b[39mk\u001b[39m-\u001b[39m\u001b[39m1\u001b[39m\n",
      "\u001b[1;31mIndexError\u001b[0m: string index out of range"
     ]
    }
   ],
   "source": [
    "def anagram():\n",
    "    string = \"abc\";\n",
    "    i=0\n",
    "    j=i+1\n",
    "    k=len(string)-1\n",
    "    while k>=0 and j<len(string) and i!=j and i!=k and j!=k:\n",
    "        print(string[i][j][k])\n",
    "        i=i+1\n",
    "        k=k-1\n",
    "        \n",
    "anagram()\n",
    "        "
   ]
  }
 ],
 "metadata": {
  "kernelspec": {
   "display_name": "Python 3.10.7 64-bit",
   "language": "python",
   "name": "python3"
  },
  "language_info": {
   "codemirror_mode": {
    "name": "ipython",
    "version": 3
   },
   "file_extension": ".py",
   "mimetype": "text/x-python",
   "name": "python",
   "nbconvert_exporter": "python",
   "pygments_lexer": "ipython3",
   "version": "3.10.7"
  },
  "orig_nbformat": 4,
  "vscode": {
   "interpreter": {
    "hash": "df95319d8ce4e1d89f5365ae10992bc1f65da593082b1d264e8f529830ec2f02"
   }
  }
 },
 "nbformat": 4,
 "nbformat_minor": 2
}
