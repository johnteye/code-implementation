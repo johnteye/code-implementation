{
 "cells": [
  {
   "cell_type": "code",
   "execution_count": 1,
   "metadata": {},
   "outputs": [
    {
     "data": {
      "text/plain": [
       "'\\n[1,5,6,7,8,1,10]\\n\\n[1,1,5,6,7,8,10]\\n            l  r\\n            min = \\n'"
      ]
     },
     "execution_count": 1,
     "metadata": {},
     "output_type": "execute_result"
    }
   ],
   "source": [
    "from typing import List\n",
    "def row_count(nums: List[int]) ->int :\n",
    "    stack = []\n",
    "    counter = 0\n",
    "    if not nums:\n",
    "        return \n",
    "    for i in range(len(nums)):\n",
    "        if not stack:\n",
    "            stack.append(nums[i])\n",
    "            counter +=1\n",
    "        max_val = max(stack)\n",
    "        \n",
    "        if nums[i] > max_val:\n",
    "            counter += 1\n",
    "            stack.append(nums[i])\n",
    "        else:\n",
    "            stack.append(nums[i])\n",
    "    \n",
    "    return counter\n",
    "\n",
    "row_count(nums = [])\n",
    "\n",
    "\n",
    "\"\"\"\n",
    "[1,5,6,7,8,1,10]\n",
    "\n",
    "[1,1,5,6,7,8,10]\n",
    "            l  r\n",
    "            min = \n",
    "\"\"\""
   ]
  },
  {
   "cell_type": "code",
   "execution_count": 7,
   "metadata": {},
   "outputs": [
    {
     "name": "stdout",
     "output_type": "stream",
     "text": [
      "dict_values([['ant', 'tan']])\n"
     ]
    }
   ],
   "source": [
    "from collections import defaultdict\n",
    "words = [\"ant\", \"tan\"]\n",
    "res = defaultdict(list)\n",
    "for s in words:\n",
    "    count = [0] * 26\n",
    "    for c in s:\n",
    "        count[ord(c) - ord(\"a\")] += 1 \n",
    "    res[tuple(count)].append(s)\n",
    "print(res.values())\n"
   ]
  },
  {
   "cell_type": "code",
   "execution_count": 20,
   "metadata": {},
   "outputs": [
    {
     "data": {
      "text/plain": [
       "[1, 2]"
      ]
     },
     "execution_count": 20,
     "metadata": {},
     "output_type": "execute_result"
    }
   ],
   "source": [
    "# bucket sort\n",
    "from typing import List\n",
    "from collections import defaultdict\n",
    "def topKFrequent(nums: List[int], k: int):\n",
    "    count = {}\n",
    "    freq = [[] for i in range(len(nums) + 1)]\n",
    "    \n",
    "    for n in nums:\n",
    "        count[n] = 1 + count.get(n,0)\n",
    "        \n",
    "    for n, c in count.items():\n",
    "        freq[c].append(n)\n",
    "        \n",
    "    res = []\n",
    "    for i in range(len(freq) - 1, 0, -1):\n",
    "        for n in freq[i]:\n",
    "            res.append(n)\n",
    "            if len(res) == k:\n",
    "                return res\n",
    "            \n",
    "topKFrequent( nums = [1,1,1,2,2,3], k = 2)\n",
    "    \n",
    "    "
   ]
  },
  {
   "cell_type": "code",
   "execution_count": 6,
   "metadata": {},
   "outputs": [
    {
     "name": "stdout",
     "output_type": "stream",
     "text": [
      "2\n"
     ]
    }
   ],
   "source": [
    "def isPalindrome(s):\n",
    "    newStr = \"\"\n",
    "    for c in s:\n",
    "        if c.isalnum():\n",
    "            newStr += c.lower()\n",
    "    return True if newStr == newStr[::-1] else False\n",
    "\n",
    "isPalindrome(\"\")"
   ]
  },
  {
   "cell_type": "code",
   "execution_count": 7,
   "metadata": {},
   "outputs": [
    {
     "name": "stdout",
     "output_type": "stream",
     "text": [
      "[-4, -2, -3, -1]\n",
      "[-3, -2, -1]\n",
      "[-2, -1]\n",
      "[-1]\n",
      "[]\n"
     ]
    }
   ],
   "source": [
    "import heapq\n",
    "nums = [1,2,3,4]\n",
    "nums = [ -n for n in nums]\n",
    "heapq.heapify(nums)\n",
    "print(nums)\n",
    "for i in range(len(nums)):\n",
    "    heapq.heappop(nums)\n",
    "    print(nums)\n"
   ]
  },
  {
   "cell_type": "code",
   "execution_count": 5,
   "metadata": {},
   "outputs": [
    {
     "name": "stdout",
     "output_type": "stream",
     "text": [
      "1\n"
     ]
    }
   ],
   "source": []
  }
 ],
 "metadata": {
  "kernelspec": {
   "display_name": "Python 3.10.7 64-bit",
   "language": "python",
   "name": "python3"
  },
  "language_info": {
   "codemirror_mode": {
    "name": "ipython",
    "version": 3
   },
   "file_extension": ".py",
   "mimetype": "text/x-python",
   "name": "python",
   "nbconvert_exporter": "python",
   "pygments_lexer": "ipython3",
   "version": "3.10.7"
  },
  "orig_nbformat": 4,
  "vscode": {
   "interpreter": {
    "hash": "df95319d8ce4e1d89f5365ae10992bc1f65da593082b1d264e8f529830ec2f02"
   }
  }
 },
 "nbformat": 4,
 "nbformat_minor": 2
}
