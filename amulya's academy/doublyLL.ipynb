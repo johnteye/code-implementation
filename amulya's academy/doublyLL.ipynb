{
 "cells": [
  {
   "cell_type": "code",
   "execution_count": 9,
   "metadata": {},
   "outputs": [
    {
     "data": {
      "text/plain": [
       "[]"
      ]
     },
     "execution_count": 9,
     "metadata": {},
     "output_type": "execute_result"
    }
   ],
   "source": [
    "from typing import List\n",
    "def row_count(nums: List[int]) ->int :\n",
    "    stack = []\n",
    "    counter = 0\n",
    "    if not nums:\n",
    "        return \n",
    "    for i in range(len(nums)):\n",
    "        if not stack:\n",
    "            stack.append(nums[i])\n",
    "            counter +=1\n",
    "        max_val = max(stack)\n",
    "        \n",
    "        if nums[i] > max_val:\n",
    "            counter += 1\n",
    "            stack.append(nums[i])\n",
    "        else:\n",
    "            stack.append(nums[i])\n",
    "    \n",
    "    return counter\n",
    "\n",
    "row_count(nums = [])\n",
    "\n",
    "\n",
    "\"\"\"\n",
    "[1,5,6,7,8,1,10]\n",
    "\n",
    "[1,1,5,6,7,8,10]\n",
    "            l  r\n",
    "            min = \n",
    "\"\"\""
   ]
  },
  {
   "cell_type": "code",
   "execution_count": null,
   "metadata": {},
   "outputs": [],
   "source": []
  }
 ],
 "metadata": {
  "kernelspec": {
   "display_name": "Python 3.10.7 64-bit",
   "language": "python",
   "name": "python3"
  },
  "language_info": {
   "codemirror_mode": {
    "name": "ipython",
    "version": 3
   },
   "file_extension": ".py",
   "mimetype": "text/x-python",
   "name": "python",
   "nbconvert_exporter": "python",
   "pygments_lexer": "ipython3",
   "version": "3.10.7"
  },
  "orig_nbformat": 4,
  "vscode": {
   "interpreter": {
    "hash": "df95319d8ce4e1d89f5365ae10992bc1f65da593082b1d264e8f529830ec2f02"
   }
  }
 },
 "nbformat": 4,
 "nbformat_minor": 2
}
