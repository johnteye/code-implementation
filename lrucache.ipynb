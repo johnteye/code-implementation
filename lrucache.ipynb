{
 "cells": [
  {
   "cell_type": "code",
   "execution_count": 1,
   "metadata": {},
   "outputs": [],
   "source": [
    "class LRUCache:\n",
    "    def __init__(self, capacity):\n",
    "        self.cache = {}\n",
    "        self.stack = []\n",
    "        self.capacity = capacity\n",
    "        \n",
    "    def get(self, key):\n",
    "        if key not in self.cache:\n",
    "            return -1\n",
    "        self.stack.remove(key)\n",
    "        self.stack.append(key)\n",
    "        return self.cache[key]\n",
    "    \n",
    "    def put(self, key, val):\n",
    "        if key in self.cache:\n",
    "            self.stack.remove(key)\n",
    "        elif len(self.cache) == len(self.capacity):\n",
    "            del self.cache[self.stack[0]]\n",
    "            self.stack.pop(0)\n",
    "            \n",
    "        self.stack.append(key)\n",
    "        self.cache[key] = val\n",
    "            \n",
    "            "
   ]
  },
  {
   "cell_type": "code",
   "execution_count": 4,
   "metadata": {},
   "outputs": [
    {
     "data": {
      "text/plain": [
       "2"
      ]
     },
     "execution_count": 4,
     "metadata": {},
     "output_type": "execute_result"
    }
   ],
   "source": [
    "def subarrayCount(nums, k):\n",
    "    count = 0\n",
    "    for start in range(len(nums)):\n",
    "        for end in range(start +1, len(nums) +1):\n",
    "            if sum(nums[start:end]) == k:\n",
    "                count +=1\n",
    "    return count\n",
    "\n",
    "subarrayCount([1,2,3], 3)"
   ]
  },
  {
   "cell_type": "code",
   "execution_count": 5,
   "metadata": {},
   "outputs": [
    {
     "name": "stdout",
     "output_type": "stream",
     "text": [
      "2\n",
      "2\n",
      "2\n"
     ]
    }
   ],
   "source": [
    "def subarraySum(nums, k):\n",
    "    count = 0\n",
    "    for start in range(len(nums)):\n",
    "        for end in range(start + 1, len(nums) + 1):\n",
    "            if sum(nums[start:end]) == k:\n",
    "                count += 1\n",
    "    return count\n",
    "\n",
    "# test the function\n",
    "print(subarraySum([1, 1, 1], 2))  # prints 2\n",
    "print(subarraySum([1, 2, 3], 3))  # prints 1\n",
    "print(subarraySum([1, 2, 3, 4, 5], 5))  # prints 3\n"
   ]
  },
  {
   "cell_type": "code",
   "execution_count": 6,
   "metadata": {},
   "outputs": [
    {
     "data": {
      "text/plain": [
       "1"
      ]
     },
     "execution_count": 6,
     "metadata": {},
     "output_type": "execute_result"
    }
   ],
   "source": [
    "def solution(words):\n",
    "    for c in words:\n",
    "        c = str(c)\n",
    "    res = 0\n",
    "    for word in words:\n",
    "        if c.startswith(word):\n",
    "            res += 1\n",
    "        else:\n",
    "            continue\n",
    "            \n",
    "    return res\n",
    "\n",
    "words = [\"back\", \"backdoor\", \"gammon\", \"backgammon\", \"comeback\", \"come\", \"door\"]\n",
    "solution(words)"
   ]
  }
 ],
 "metadata": {
  "kernelspec": {
   "display_name": "Python 3",
   "language": "python",
   "name": "python3"
  },
  "language_info": {
   "codemirror_mode": {
    "name": "ipython",
    "version": 3
   },
   "file_extension": ".py",
   "mimetype": "text/x-python",
   "name": "python",
   "nbconvert_exporter": "python",
   "pygments_lexer": "ipython3",
   "version": "3.10.7 (tags/v3.10.7:6cc6b13, Sep  5 2022, 14:08:36) [MSC v.1933 64 bit (AMD64)]"
  },
  "orig_nbformat": 4,
  "vscode": {
   "interpreter": {
    "hash": "df95319d8ce4e1d89f5365ae10992bc1f65da593082b1d264e8f529830ec2f02"
   }
  }
 },
 "nbformat": 4,
 "nbformat_minor": 2
}
