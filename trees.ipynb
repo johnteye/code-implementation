{
 "cells": [
  {
   "cell_type": "code",
   "execution_count": 7,
   "metadata": {},
   "outputs": [
    {
     "data": {
      "text/plain": [
       "(1, 0)"
      ]
     },
     "execution_count": 7,
     "metadata": {},
     "output_type": "execute_result"
    }
   ],
   "source": [
    "from typing import List\n",
    "# two sums\n",
    "\n",
    "class Solution:\n",
    "   def twoSum(self, nums: List[int], target: int) -> List[int]:\n",
    "       seen = {}\n",
    "       for i, val in enumerate(nums):\n",
    "        remaining = target - nums[i]\n",
    "\n",
    "        if remaining in seen:\n",
    "            return(i, seen[remaining])\n",
    "        seen[val] = i\n",
    "\n",
    "\n",
    "n1 = Solution()\n",
    "n1.twoSum(nums = [3,7,6], target = 10)"
   ]
  },
  {
   "cell_type": "code",
   "execution_count": 41,
   "metadata": {},
   "outputs": [
    {
     "data": {
      "text/plain": [
       "False"
      ]
     },
     "execution_count": 41,
     "metadata": {},
     "output_type": "execute_result"
    }
   ],
   "source": [
    "class Solution:\n",
    "    # valid parenthesis\n",
    "    def isValid(self, s: str) -> bool:\n",
    "        pair = {\n",
    "            \"]\":\"[\",\n",
    "            \"}\":\"{\",\n",
    "            \")\":\"(\"\n",
    "        }\n",
    "        stack = []\n",
    "\n",
    "        for c in s:\n",
    "            if c in pair:\n",
    "                if stack and stack[-1] == pair[c]:\n",
    "                    stack.pop()\n",
    "                else:\n",
    "                    return False\n",
    "            else:\n",
    "                stack.append(c)\n",
    "        return True if not stack else False\n",
    "test1 = Solution()\n",
    "test1.isValid(\"[{]\")"
   ]
  },
  {
   "cell_type": "code",
   "execution_count": 5,
   "metadata": {},
   "outputs": [],
   "source": [
    "#merge two sorted list\n",
    "import tarfile\n",
    "from typing import Optional\n",
    "class ListNode:\n",
    "    def __init__(self, val=0, next=None):\n",
    "        self.val = val\n",
    "        self.next = next\n",
    "class Solution():\n",
    "    def mergeTwoLists(self, list1: Optional[ListNode], list2: Optional[ListNode]) -> Optional[ListNode]:\n",
    "        dummy = ListNode()\n",
    "        tail = dummy\n",
    "\n",
    "        while list1 and list2:\n",
    "            if list1.val < list2.val:\n",
    "                tail.next = list1\n",
    "                list1 = list1.next\n",
    "            else:\n",
    "                tail.next = list2\n",
    "                list2 = list2.next\n",
    "            tail = tail.next\n",
    "\n",
    "        if list1:\n",
    "            tail.next = list1\n",
    "        if list2:\n",
    "            tail.next = list2\n",
    "        return dummy.next\n",
    "\n",
    "test1 = Solution()\n",
    "test1.mergeTwoLists(list1 = [1,2,4], list2 = [1,3,4]) "
   ]
  },
  {
   "cell_type": "code",
   "execution_count": 6,
   "metadata": {},
   "outputs": [
    {
     "data": {
      "text/plain": [
       "0"
      ]
     },
     "execution_count": 6,
     "metadata": {},
     "output_type": "execute_result"
    }
   ],
   "source": [
    "# best time to buy and sell stocks\n",
    "from typing import List\n",
    "class Solution:\n",
    "    def maxProfit(self, prices: List[int]) -> int:\n",
    "        max_profit = 0\n",
    "        min_price = float(\"inf\")\n",
    "        \n",
    "        for price in prices:\n",
    "            min_price = min(price, min_price)\n",
    "            profit = price - min_price\n",
    "            max_profit = max(max_profit, profit)\n",
    "        return max_profit\n",
    "\n",
    "day1= Solution()\n",
    "day1.maxProfit(prices = [7,6,4,3,1])"
   ]
  },
  {
   "cell_type": "code",
   "execution_count": 2,
   "metadata": {},
   "outputs": [
    {
     "data": {
      "text/plain": [
       "False"
      ]
     },
     "execution_count": 2,
     "metadata": {},
     "output_type": "execute_result"
    }
   ],
   "source": [
    "#palindrome\n",
    "class Solution:\n",
    "    def isPalindrome(self, s: str) -> bool:\n",
    "        a = \"\"\n",
    "        for x in [*s]:\n",
    "            if x.isalpha(): \n",
    "                a += x.lower()\n",
    "            if x.isnumeric():\n",
    "                 a += x\n",
    "        return a == a[::-1]\n",
    "              \n",
    "\n",
    "word1 = Solution()\n",
    "word1.isPalindrome(\"radar\")"
   ]
  },
  {
   "cell_type": "code",
   "execution_count": 9,
   "metadata": {},
   "outputs": [],
   "source": [
    "#Inverting a binary tree\n",
    "class TreeNode:\n",
    "    def __init__(self, val=0, left=None, right=None):\n",
    "        self.val = val\n",
    "        self.left = left\n",
    "        self.right = right\n",
    "class Solution:\n",
    "    def invertTree(self, root: TreeNode) -> TreeNode:\n",
    "        if not root:\n",
    "            return\n",
    "        \n",
    "        root.left , root.right = root.right , root.left\n",
    "        self.invertTree(root.left)\n",
    "        self.invertTree(root.right)\n",
    "        return root\n",
    "\n"
   ]
  },
  {
   "cell_type": "code",
   "execution_count": 20,
   "metadata": {},
   "outputs": [
    {
     "data": {
      "text/plain": [
       "False"
      ]
     },
     "execution_count": 20,
     "metadata": {},
     "output_type": "execute_result"
    }
   ],
   "source": [
    "#valid anagram\n",
    "\n",
    "def isAnagram(s: str, t: str) -> bool:\n",
    "    if len(s) != len(t): \n",
    "        return False\n",
    "    else:\n",
    "        letters = \"abcdefghijklmnopqrstuvwxyz\"\n",
    "        for letter in letters:\n",
    "            if s.count(letter) != t.count(letter):\n",
    "                return False\n",
    "                \n",
    "    return True\n",
    "isAnagram( s = \"rat\", t = \"car\")"
   ]
  },
  {
   "cell_type": "code",
   "execution_count": null,
   "metadata": {},
   "outputs": [],
   "source": [
    "# binary search\n",
    "from typing import List\n",
    "def search(self, nums: List[int], target: int) -> int:\n",
    "    hi = len(nums)-1\n",
    "    lo = 0\n",
    "    while lo<=hi:\n",
    "        mid = (lo+hi)//2\n",
    "        if nums[mid]==target: return mid\n",
    "        if target>nums[mid]: lo = mid+1\n",
    "        else: hi = mid-1\n",
    "    return -1"
   ]
  }
 ],
 "metadata": {
  "kernelspec": {
   "display_name": "Python 3.7.9 64-bit (microsoft store)",
   "language": "python",
   "name": "python3"
  },
  "language_info": {
   "codemirror_mode": {
    "name": "ipython",
    "version": 3
   },
   "file_extension": ".py",
   "mimetype": "text/x-python",
   "name": "python",
   "nbconvert_exporter": "python",
   "pygments_lexer": "ipython3",
   "version": "3.7.9"
  },
  "orig_nbformat": 4,
  "vscode": {
   "interpreter": {
    "hash": "784a0799c0dae6dba3c15d23f5950f5cac127d4542c4889e7ad9101ae93f3407"
   }
  }
 },
 "nbformat": 4,
 "nbformat_minor": 2
}
