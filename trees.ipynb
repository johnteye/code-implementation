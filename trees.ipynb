{
 "cells": [
  {
   "cell_type": "code",
   "execution_count": 3,
   "metadata": {},
   "outputs": [
    {
     "data": {
      "text/plain": [
       "(2, 1)"
      ]
     },
     "execution_count": 3,
     "metadata": {},
     "output_type": "execute_result"
    }
   ],
   "source": [
    "from typing import List\n",
    "# two sums\n",
    "\n",
    "class Solution:\n",
    "   def twoSum(self, nums: List[int], target: int) -> List[int]:\n",
    "       seen = {}\n",
    "       for i, val in enumerate(nums):\n",
    "        remaining = target - nums[i]\n",
    "        if remaining in seen:\n",
    "            return (i, seen[remaining])\n",
    "        seen[val] = i\n",
    "\n",
    "\n",
    "n1 = Solution()\n",
    "n1.twoSum(nums = [3,2,4], target = 6)"
   ]
  },
  {
   "cell_type": "code",
   "execution_count": 41,
   "metadata": {},
   "outputs": [
    {
     "data": {
      "text/plain": [
       "False"
      ]
     },
     "execution_count": 41,
     "metadata": {},
     "output_type": "execute_result"
    }
   ],
   "source": [
    "class Solution:\n",
    "    # valid parenthesis\n",
    "    def isValid(self, s: str) -> bool:\n",
    "        pair = {\n",
    "            \"]\":\"[\",\n",
    "            \"}\":\"{\",\n",
    "            \")\":\"(\"\n",
    "        }\n",
    "        stack = []\n",
    "\n",
    "        for c in s:\n",
    "            if c in pair:\n",
    "                if stack and stack[-1] == pair[c]:\n",
    "                    stack.pop()\n",
    "                else:\n",
    "                    return False\n",
    "            else:\n",
    "                stack.append(c)\n",
    "        return True if not stack else False\n",
    "test1 = Solution()\n",
    "test1.isValid(\"[{]\")"
   ]
  },
  {
   "cell_type": "code",
   "execution_count": 5,
   "metadata": {},
   "outputs": [],
   "source": [
    "#merge two sorted list\n",
    "import tarfile\n",
    "from typing import Optional\n",
    "class ListNode:\n",
    "    def __init__(self, val=0, next=None):\n",
    "        self.val = val\n",
    "        self.next = next\n",
    "class Solution():\n",
    "    def mergeTwoLists(self, list1: Optional[ListNode], list2: Optional[ListNode]) -> Optional[ListNode]:\n",
    "        dummy = ListNode()\n",
    "        tail = dummy\n",
    "\n",
    "        while list1 and list2:\n",
    "            if list1.val < list2.val:\n",
    "                tail.next = list1\n",
    "                list1 = list1.next\n",
    "            else:\n",
    "                tail.next = list2\n",
    "                list2 = list2.next\n",
    "            tail = tail.next\n",
    "\n",
    "        if list1:\n",
    "            tail.next = list1\n",
    "        if list2:\n",
    "            tail.next = list2\n",
    "        return dummy.next\n",
    "\n",
    "test1 = Solution()\n",
    "test1.mergeTwoLists(list1 = [1,2,4], list2 = [1,3,4]) "
   ]
  },
  {
   "cell_type": "code",
   "execution_count": 11,
   "metadata": {},
   "outputs": [
    {
     "data": {
      "text/plain": [
       "5"
      ]
     },
     "execution_count": 11,
     "metadata": {},
     "output_type": "execute_result"
    }
   ],
   "source": [
    "# best time to buy and sell stocks\n",
    "from typing import List\n",
    "class Solution:\n",
    "    def maxProfit(self, prices: List[int]) -> int:\n",
    "       max_profit = 0\n",
    "       min = float('inf')\n",
    "       for i in range(len(prices)):\n",
    "        if min > prices[i]:\n",
    "            min = prices[i]\n",
    "        elif max_profit < prices[i] - min:\n",
    "            max_profit = prices[i] -min\n",
    "       return max_profit\n",
    "\n",
    "day1= Solution()\n",
    "day1.maxProfit(prices = [7,1,5,3,6,4])"
   ]
  },
  {
   "cell_type": "code",
   "execution_count": 2,
   "metadata": {},
   "outputs": [
    {
     "data": {
      "text/plain": [
       "False"
      ]
     },
     "execution_count": 2,
     "metadata": {},
     "output_type": "execute_result"
    }
   ],
   "source": [
    "#palindrome\n",
    "class Solution:\n",
    "    def isPalindrome(self, s: str) -> bool:\n",
    "        a = \"\"\n",
    "        for x in [*s]:\n",
    "            if x.isalpha(): \n",
    "                a += x.lower()\n",
    "            if x.isnumeric():\n",
    "                 a += x\n",
    "        return a == a[::-1]\n",
    "              \n",
    "\n",
    "word1 = Solution()\n",
    "word1.isPalindrome(\"radar\")"
   ]
  },
  {
   "cell_type": "code",
   "execution_count": 9,
   "metadata": {},
   "outputs": [],
   "source": [
    "#Inverting a binary tree\n",
    "class TreeNode:\n",
    "    def __init__(self, val=0, left=None, right=None):\n",
    "        self.val = val\n",
    "        self.left = left\n",
    "        self.right = right\n",
    "class Solution:\n",
    "    def invertTree(self, root: TreeNode) -> TreeNode:\n",
    "        if not root:\n",
    "            return\n",
    "        \n",
    "        root.left , root.right = root.right , root.left\n",
    "        self.invertTree(root.left)\n",
    "        self.invertTree(root.right)\n",
    "        return root\n",
    "\n"
   ]
  },
  {
   "cell_type": "code",
   "execution_count": 20,
   "metadata": {},
   "outputs": [
    {
     "data": {
      "text/plain": [
       "False"
      ]
     },
     "execution_count": 20,
     "metadata": {},
     "output_type": "execute_result"
    }
   ],
   "source": [
    "#valid anagram\n",
    "\n",
    "def isAnagram(s: str, t: str) -> bool:\n",
    "    if len(s) != len(t): \n",
    "        return False\n",
    "    else:\n",
    "        letters = \"abcdefghijklmnopqrstuvwxyz\"\n",
    "        for letter in letters:\n",
    "            if s.count(letter) != t.count(letter):\n",
    "                return False\n",
    "                \n",
    "    return True\n",
    "isAnagram( s = \"rat\", t = \"car\")"
   ]
  },
  {
   "cell_type": "code",
   "execution_count": null,
   "metadata": {},
   "outputs": [],
   "source": [
    "# binary search\n",
    "from typing import List\n",
    "def search(self, nums: List[int], target: int) -> int:\n",
    "    hi = len(nums)-1\n",
    "    lo = 0\n",
    "    while lo<=hi:\n",
    "        mid = (lo+hi)//2\n",
    "        if nums[mid]==target: return mid\n",
    "        if target>nums[mid]: lo = mid+1\n",
    "        else: hi = mid-1\n",
    "    return -1"
   ]
  },
  {
   "cell_type": "code",
   "execution_count": 43,
   "metadata": {},
   "outputs": [
    {
     "data": {
      "text/plain": [
       "1"
      ]
     },
     "execution_count": 43,
     "metadata": {},
     "output_type": "execute_result"
    }
   ],
   "source": [
    "from typing import List\n",
    "def coinChange(coins: List[int], amount: int) -> int:\n",
    "    largest_val = max(coins)\n",
    "    if not coins:\n",
    "        return -1\n",
    "    if len(coins) == 1 and largest_val > amount:\n",
    "        return -1\n",
    "    if coins:\n",
    "        count = amount//largest_val\n",
    "        remainder = amount % largest_val\n",
    "        if remainder in coins:\n",
    "            count += 1\n",
    "        return count\n",
    "    \n",
    "    \n",
    "    if amount == 0:\n",
    "        return amount\n",
    "    \n",
    "\n",
    "    \n",
    "    \n",
    "\n",
    "  \n",
    "\n",
    "coinChange([1, 3, 4,5], 7)"
   ]
  },
  {
   "cell_type": "code",
   "execution_count": 16,
   "metadata": {},
   "outputs": [
    {
     "data": {
      "text/plain": [
       "1"
      ]
     },
     "execution_count": 16,
     "metadata": {},
     "output_type": "execute_result"
    }
   ],
   "source": [
    "# Majority element\n",
    "from typing import List\n",
    "class Solution:\n",
    "    def majorityElement(self, nums: List[int]) -> int:\n",
    "        majority = nums[0]\n",
    "        counter = 1\n",
    "        \n",
    "        for i in range(len(nums)):\n",
    "            if majority != nums[i]:\n",
    "               counter -=1\n",
    "               if counter ==0:\n",
    "                majority = nums[i]\n",
    "                counter = 1\n",
    "            elif majority == nums[i]:\n",
    "                counter += 1\n",
    "        return majority\n",
    "list1 = Solution()\n",
    "list1.majorityElement([1,2,2,1,3,1])"
   ]
  },
  {
   "cell_type": "code",
   "execution_count": 24,
   "metadata": {},
   "outputs": [
    {
     "data": {
      "text/plain": [
       "True"
      ]
     },
     "execution_count": 24,
     "metadata": {},
     "output_type": "execute_result"
    }
   ],
   "source": [
    "# Contains Duplicate\n",
    "from typing import List\n",
    "class Solution:\n",
    "    def containsDuplicate(self, nums: List[int]) -> bool:\n",
    "        hashset = set()\n",
    "        for c in nums:\n",
    "            if c in hashset:\n",
    "                return True\n",
    "            hashset.add(c)\n",
    "        return False\n",
    "\n",
    "list1 = Solution()\n",
    "list1.containsDuplicate([1,1,1,3,3,4,3,2,4,2])"
   ]
  },
  {
   "cell_type": "code",
   "execution_count": 5,
   "metadata": {},
   "outputs": [
    {
     "data": {
      "text/plain": [
       "[[1, 2], [3, 10], [12, 16]]"
      ]
     },
     "execution_count": 5,
     "metadata": {},
     "output_type": "execute_result"
    }
   ],
   "source": [
    "# InsertInterval\n",
    "from typing import List\n",
    "class Solution:\n",
    "    def insert(self, intervals: List[List[int]], newInterval: List[int]) -> List[List[int]]:\n",
    "        res = []\n",
    "        for i in range(len(intervals)):\n",
    "            if newInterval[1] < intervals[i][0]:\n",
    "                res.append(newInterval)\n",
    "                return res + intervals[i:]\n",
    "            \n",
    "            elif newInterval[0] > intervals[i][1]:\n",
    "                res.append(intervals[i])\n",
    "            else:\n",
    "                newInterval = [min(newInterval[0], intervals[i][0]), max(newInterval[1], intervals[i][1])]\n",
    "\n",
    "        res.append(newInterval)\n",
    "\n",
    "        return res\n",
    "\n",
    "test1 = Solution()\n",
    "test1.insert( intervals = [[1,2],[3,5],[6,7],[8,10],[12,16]], newInterval = [4,8])"
   ]
  },
  {
   "cell_type": "code",
   "execution_count": 29,
   "metadata": {},
   "outputs": [
    {
     "data": {
      "text/plain": [
       "[(-1, -1, 2), (-1, 0, 1)]"
      ]
     },
     "execution_count": 29,
     "metadata": {},
     "output_type": "execute_result"
    }
   ],
   "source": [
    "# 3 sums\n",
    "from typing import List\n",
    "class Solution:\n",
    "    def threeSum(self, nums: List[int]) -> List[List[int]]:\n",
    "        res = []\n",
    "        nums.sort()\n",
    "        # for i in range(len(nums)):\n",
    "        #     if i > 0 and nums[i] == nums [i-1]:\n",
    "        #         continue\n",
    "        #     l, r = i+1, len(nums) -1\n",
    "        #     while l < r:\n",
    "        #         s = nums[i] + nums[l] + nums[r]\n",
    "\n",
    "        #         if s < 0:\n",
    "        #             l += 1\n",
    "        #         elif s > 0:\n",
    "        #             r -= 1\n",
    "        #         else:\n",
    "        #             res.append((nums[i] + nums[l] + nums[r]))\n",
    "        #             while l < r and nums[l] == nums[l + 1]:\n",
    "        #                 l += 1\n",
    "        #             while l < r and nums[r] == nums[r - 1]:\n",
    "        #                 r -=1\n",
    "        #             l += 1;r -= 1\n",
    "        # return res\n",
    "\n",
    "\n",
    "        for i in range(len(nums)):\n",
    "            if i > 0 and nums[i] == nums[i-1]:\n",
    "                continue\n",
    "            l, r = i+1, len(nums)-1\n",
    "            while l < r:\n",
    "                s = nums[i] + nums[l] + nums[r]\n",
    "                if s < 0:\n",
    "                    l +=1 \n",
    "                elif s > 0:\n",
    "                    r -= 1\n",
    "                else:\n",
    "                    res.append((nums[i], nums[l], nums[r]))\n",
    "                    while l < r and nums[l] == nums[l+1]:\n",
    "                        l += 1\n",
    "                    while l < r and nums[r] == nums[r-1]:\n",
    "                        r -= 1\n",
    "                    l += 1; r -= 1\n",
    "        return res\n",
    "\n",
    "\n",
    "test1 = Solution()\n",
    "test1.threeSum(nums = [-1,0,1,2,-1,-4])"
   ]
  },
  {
   "cell_type": "code",
   "execution_count": 2,
   "metadata": {},
   "outputs": [
    {
     "name": "stdout",
     "output_type": "stream",
     "text": [
      "1\n",
      "2\n",
      "3\n"
     ]
    }
   ],
   "source": [
    "#implement a preorder traversal\n",
    "class Node:\n",
    "    def __init__(self, val=0):\n",
    "        self.val = val\n",
    "        self.right = self.left = None\n",
    "\n",
    "def preorder(root):\n",
    "\n",
    "    if not root:\n",
    "        return\n",
    "    print(root.val)\n",
    "    preorder(root.left)\n",
    "    preorder(root.right)\n",
    "\n",
    "n1 = Node(1)\n",
    "n2 = Node(2)\n",
    "n3 = Node(3)\n",
    "\n",
    "n1.left = n2\n",
    "n1.right = n3\n",
    "\n",
    "preorder(n1)"
   ]
  }
 ],
 "metadata": {
  "kernelspec": {
   "display_name": "Python 3.7.9 64-bit (microsoft store)",
   "language": "python",
   "name": "python3"
  },
  "language_info": {
   "codemirror_mode": {
    "name": "ipython",
    "version": 3
   },
   "file_extension": ".py",
   "mimetype": "text/x-python",
   "name": "python",
   "nbconvert_exporter": "python",
   "pygments_lexer": "ipython3",
   "version": "3.7.9"
  },
  "orig_nbformat": 4,
  "vscode": {
   "interpreter": {
    "hash": "784a0799c0dae6dba3c15d23f5950f5cac127d4542c4889e7ad9101ae93f3407"
   }
  }
 },
 "nbformat": 4,
 "nbformat_minor": 2
}
