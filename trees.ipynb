{
 "cells": [
  {
   "cell_type": "code",
   "execution_count": 24,
   "metadata": {},
   "outputs": [],
   "source": [
    "from typing import List\n",
    "# two sums\n",
    "\n",
    "class Solution:\n",
    "   def twoSum(self, nums: List[int], target: int) -> List[int]:\n",
    "       seen = {}\n",
    "       for i, val in enumerate(nums):\n",
    "        remaining = target - nums[i]\n",
    "\n",
    "        if remaining in seen:\n",
    "            return(i, seen[remaining])\n",
    "        seen[val] = i\n",
    "\n",
    "\n",
    "n1 = Solution()\n",
    "n1.twoSum(nums = [3,7,6], target = 14)"
   ]
  },
  {
   "cell_type": "code",
   "execution_count": 41,
   "metadata": {},
   "outputs": [
    {
     "data": {
      "text/plain": [
       "False"
      ]
     },
     "execution_count": 41,
     "metadata": {},
     "output_type": "execute_result"
    }
   ],
   "source": [
    "class Solution:\n",
    "    # valid parenthesis\n",
    "    def isValid(self, s: str) -> bool:\n",
    "        pair = {\n",
    "            \"]\":\"[\",\n",
    "            \"}\":\"{\",\n",
    "            \")\":\"(\"\n",
    "        }\n",
    "        stack = []\n",
    "\n",
    "        for c in s:\n",
    "            if c in pair:\n",
    "                if stack and stack[-1] == pair[c]:\n",
    "                    stack.pop()\n",
    "                else:\n",
    "                    return False\n",
    "            else:\n",
    "                stack.append(c)\n",
    "        return True if not stack else False\n",
    "test1 = Solution()\n",
    "test1.isValid(\"[{]\")"
   ]
  },
  {
   "cell_type": "code",
   "execution_count": null,
   "metadata": {},
   "outputs": [],
   "source": [
    "class ListNode:\n",
    "    def __init__(self, val=0, next=None):\n",
    "        self.val = val\n",
    "        self.next = next\n",
    "        \n",
    "class Solution:\n",
    "    def mergeTwoLists(self, list1: Optional[ListNode], list2: Optional[ListNode]) -> Optional[ListNode]:"
   ]
  }
 ],
 "metadata": {
  "kernelspec": {
   "display_name": "Python 3.7.9 64-bit (microsoft store)",
   "language": "python",
   "name": "python3"
  },
  "language_info": {
   "codemirror_mode": {
    "name": "ipython",
    "version": 3
   },
   "file_extension": ".py",
   "mimetype": "text/x-python",
   "name": "python",
   "nbconvert_exporter": "python",
   "pygments_lexer": "ipython3",
   "version": "3.7.9"
  },
  "orig_nbformat": 4,
  "vscode": {
   "interpreter": {
    "hash": "784a0799c0dae6dba3c15d23f5950f5cac127d4542c4889e7ad9101ae93f3407"
   }
  }
 },
 "nbformat": 4,
 "nbformat_minor": 2
}
